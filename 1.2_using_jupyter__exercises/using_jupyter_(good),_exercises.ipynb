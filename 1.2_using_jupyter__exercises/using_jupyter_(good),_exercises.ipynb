{
 "cells": [
  {
   "attachments": {},
   "cell_type": "markdown",
   "id": "123456",
   "metadata": {},
   "source": [
    "<div style=\"text-align:left;font-size:2em\"><span style=\"font-weight:bolder;font-size:1.25em\">SP2273 | Learning Portfolio</span><br><br><span style=\"font-weight:bold;color:darkred\">Using Jupyter (Good), Exercises</span></div>"
   ]
  },
  {
   "cell_type": "markdown",
   "id": "97a9e09e",
   "metadata": {},
   "source": [
    "#### **Exercise 1(Learning to interrupt)**"
   ]
  },
  {
   "cell_type": "code",
   "execution_count": 1,
   "id": "a0ae76e6",
   "metadata": {},
   "outputs": [],
   "source": [
    "#while True:\n",
    "    #print('*', end='')"
   ]
  },
  {
   "cell_type": "markdown",
   "id": "8017a6fb",
   "metadata": {},
   "source": [
    "#### **Exercise 2(Resetting and Restarting the Kernal)**"
   ]
  },
  {
   "cell_type": "code",
   "execution_count": 1,
   "id": "c537cf20",
   "metadata": {},
   "outputs": [
    {
     "ename": "TypeError",
     "evalue": "'str' object is not callable",
     "output_type": "error",
     "traceback": [
      "\u001b[31m---------------------------------------------------------------------------\u001b[39m",
      "\u001b[31mTypeError\u001b[39m                                 Traceback (most recent call last)",
      "\u001b[36mCell\u001b[39m\u001b[36m \u001b[39m\u001b[32mIn[1]\u001b[39m\u001b[32m, line 2\u001b[39m\n\u001b[32m      1\u001b[39m \u001b[38;5;28mprint\u001b[39m = \u001b[33m'\u001b[39m\u001b[33mPRINT\u001b[39m\u001b[33m'\u001b[39m\n\u001b[32m----> \u001b[39m\u001b[32m2\u001b[39m \u001b[38;5;28;43mprint\u001b[39;49m\u001b[43m(\u001b[49m\u001b[33;43m'\u001b[39;49m\u001b[33;43mHello World\u001b[39;49m\u001b[33;43m'\u001b[39;49m\u001b[43m)\u001b[49m\n",
      "\u001b[31mTypeError\u001b[39m: 'str' object is not callable"
     ]
    }
   ],
   "source": [
    "print = 'PRINT'\n",
    "print('Hello World')"
   ]
  },
  {
   "cell_type": "markdown",
   "id": "382312ce",
   "metadata": {},
   "source": [
    "#### **Exercise 3(Timing Stuff)**"
   ]
  },
  {
   "cell_type": "markdown",
   "id": "42737e6a",
   "metadata": {},
   "source": [
    "##### Part 1"
   ]
  },
  {
   "cell_type": "code",
   "execution_count": null,
   "id": "631f5e9c",
   "metadata": {},
   "outputs": [],
   "source": [
    "squares = [i**2 for i in range(10)]\n",
    "print(type(squares), squares)"
   ]
  },
  {
   "cell_type": "code",
   "execution_count": null,
   "id": "6c0c3acb",
   "metadata": {},
   "outputs": [],
   "source": [
    "squares = list()\n",
    "for i in range(10):\n",
    "    squares.append(i**2)\n",
    "print(type(squares), squares)"
   ]
  },
  {
   "cell_type": "markdown",
   "id": "55a817aa",
   "metadata": {},
   "source": [
    "##### Part 2"
   ]
  },
  {
   "cell_type": "code",
   "execution_count": 2,
   "id": "56c9f1b7",
   "metadata": {},
   "outputs": [
    {
     "name": "stdout",
     "output_type": "stream",
     "text": [
      "<class 'list'> [0, 1, 4, 9, 16, 25, 36, 49, 64, 81]\n",
      "CPU times: total: 0 ns\n",
      "Wall time: 232 μs\n"
     ]
    }
   ],
   "source": [
    "%%time\n",
    "squares = [i**2 for i in range(10)]\n",
    "print(type(squares), squares)\n",
    "\n",
    "\n"
   ]
  },
  {
   "cell_type": "code",
   "execution_count": null,
   "id": "882f4e63",
   "metadata": {},
   "outputs": [
    {
     "name": "stdout",
     "output_type": "stream",
     "text": [
      "<class 'list'> [0, 1, 4, 9, 16, 25, 36, 49, 64, 81]\n",
      "CPU times: total: 0 ns\n",
      "Wall time: 597 μs\n"
     ]
    }
   ],
   "source": [
    "%%time\n",
    "squares = list()\n",
    "for i in range(10):\n",
    "    squares.append(i**2)\n",
    "print(type(squares), squares)\n"
   ]
  },
  {
   "cell_type": "markdown",
   "id": "d4e939ca",
   "metadata": {},
   "source": [
    "##### Part 3"
   ]
  },
  {
   "cell_type": "markdown",
   "id": "d1abdbf4",
   "metadata": {},
   "source": [
    "CPU times refers to the time taken for the CPU to process the code\n",
    "\n",
    "Wall time refers to the total time taken for the code to be sent to the CPU, processed, and returned to the UI"
   ]
  }
 ],
 "metadata": {
  "kernelspec": {
   "display_name": "base",
   "language": "python",
   "name": "python3"
  },
  "language_info": {
   "codemirror_mode": {
    "name": "ipython",
    "version": 3
   },
   "file_extension": ".py",
   "mimetype": "text/x-python",
   "name": "python",
   "nbconvert_exporter": "python",
   "pygments_lexer": "ipython3",
   "version": "3.13.5"
  },
  "toc": {
   "base_numbering": 1,
   "nav_menu": {},
   "number_sections": true,
   "sideBar": true,
   "skip_h1_title": false,
   "title_cell": "Table of Contents",
   "title_sidebar": "Contents",
   "toc_cell": false,
   "toc_position": {},
   "toc_section_display": true,
   "toc_window_display": false
  }
 },
 "nbformat": 4,
 "nbformat_minor": 5
}
