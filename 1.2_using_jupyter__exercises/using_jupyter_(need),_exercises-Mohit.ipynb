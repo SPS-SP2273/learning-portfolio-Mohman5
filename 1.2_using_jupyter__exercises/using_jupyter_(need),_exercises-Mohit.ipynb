{
 "cells": [
  {
   "attachments": {},
   "cell_type": "markdown",
   "id": "123456",
   "metadata": {},
   "source": [
    "<div style=\"text-align:left;font-size:2em\"><span style=\"font-weight:bolder;font-size:1.25em\">SP2273 | Learning Portfolio</span><br><br><span style=\"font-weight:bold;color:darkred\">Using Jupyter (Need), Exercises</span></div>"
   ]
  },
  {
   "cell_type": "markdown",
   "id": "dfa7bf1f",
   "metadata": {},
   "source": [
    "#### **Exercise 1(put it in Markdown)**"
   ]
  },
  {
   "attachments": {},
   "cell_type": "markdown",
   "id": "123456",
   "metadata": {},
   "source": [
    "## **1 Quadratic Equations**"
   ]
  },
  {
   "attachments": {},
   "cell_type": "markdown",
   "id": "123456",
   "metadata": {},
   "source": [
    "### **Introduction**"
   ]
  },
  {
   "cell_type": "markdown",
   "id": "1196976c",
   "metadata": {},
   "source": [
    "![](https://upload.wikimedia.org/wikipedia/commons/thumb/f/f8/Polynomialdeg2.svg/450px-Polynomialdeg2.svg.png)\n",
    "\n",
    "\n",
    "\n",
    "Image from the [Wikipedia page on Quadratic equations](https://en.wikipedia.org/wiki/Quadratic_equation)\n",
    "\n",
    "The general form of the quadratic equation is:\n",
    "$$\n",
    " ax^2 + bx + c = 0\n",
    "$$"
   ]
  },
  {
   "attachments": {},
   "cell_type": "markdown",
   "id": "123456",
   "metadata": {},
   "source": [
    "### **Solutions**"
   ]
  },
  {
   "cell_type": "markdown",
   "id": "c8b0832b",
   "metadata": {},
   "source": [
    "Provided $ a \\ne 0 $, we can use an elementary algebraic method called [completing the square](https://en.wikipedia.org/wiki/Completing_the_square) to show that a quadratic equation has the following soution:\n",
    "\n",
    "$$\n",
    "           x = \\dfrac{-b \\pm \\sqrt{b^2-4ac}}{2a}\n",
    "$$"
   ]
  },
  {
   "attachments": {},
   "cell_type": "markdown",
   "id": "123456",
   "metadata": {},
   "source": [
    "### Discriminant"
   ]
  },
  {
   "cell_type": "markdown",
   "id": "f5be161a",
   "metadata": {},
   "source": [
    "The quantity $\\Delta = b^2-4ac$ is called the **discriminant** of the eqation and decides the nature of its solutions. The table below shows the various possibilities.\n",
    "\n",
    "| **Discriminant** | **Roots** |    \n",
    "| :--- | :--- |\n",
    "| $\\Delta = b^2-4ac = 0$ | A single solution of $-b/(2a)$ |\n",
    "| $\\Delta = b^2-4ac > 0$ | Two distinct solutions |\n",
    "| $\\Delta = b^2-4ac < 0$ | No real solutions; both are complex |\n"
   ]
  },
  {
   "cell_type": "markdown",
   "id": "663bc8a5",
   "metadata": {},
   "source": [
    "#### **Exercise 2(In Your Own Words)**"
   ]
  },
  {
   "cell_type": "markdown",
   "id": "411b8be0",
   "metadata": {},
   "source": [
    "1. What is a Git **repository**?\n",
    "\n",
    "Answer: A Git repository is something that stores the entire history of all modifications made to a project since it was started.\n",
    "\n",
    "2. Git keeps track of all modifications made in the files in our repository\n",
    "\n",
    "3. What is a **commit**?\n",
    "\n",
    "Answer: A commit is the action of taking a snapshot of your repository at a particular time so that you can access that particular state of the project in the future\n",
    "\n",
    "4. What is a **push**?\n",
    "\n",
    "Answer: A push is the process of uploading any changes in the project you decided to make to the shared repository\n",
    "\n",
    "5. What is a **pull**?\n",
    "\n",
    "Answer: A pull is the process of bringing the latest changes made to the shared repository to your local repository so that you can work on it yourself\n",
    "\n",
    "6. What is the difference betwqeen **GitHub** and **GitHub Desktop**\n",
    "\n",
    "Answer: GitHub is an online platform that contains the shared repository that you and all your group members can see. GitHub Desktop is a tool you use where you can pull the shared repository from GitHub and work on it locally on your own device before pushing it back to GitHub for your group members to see your work. Git is also a place where projects can be shared easily between developers for them to collaborate."
   ]
  },
  {
   "cell_type": "markdown",
   "id": "3c4f4032",
   "metadata": {},
   "source": [
    "#### **Exercise 3(A Matter of Statistics)**"
   ]
  },
  {
   "cell_type": "markdown",
   "id": "f35fe971",
   "metadata": {},
   "source": [
    "$$\n",
    "\\mu = \\dfrac{1}{n} \\sum_{i=1}^{n}x_{i}\n",
    "$$\n",
    "$$\n",
    "\\sigma = \\sqrt{\\dfrac{1}{n}\\sum_{i=1}^{n}(x_{i}-\\mu)^2}\n",
    "$$\n",
    "$$\n",
    "r = \\dfrac{\\sum_{i=1}^{n}(x_{i}-\\mu_{X})(y_{i}-\\mu_{Y})}{\\sqrt{\\sum_{i=1}^{n}(x_{i}-\\mu_{X})^2\\sum_{i=1}^{n}(y_{i}-\\mu_{Y})^2}}\n",
    "\n",
    "Testing"
   ]
  }
 ],
 "metadata": {
  "kernelspec": {
   "display_name": "base",
   "language": "python",
   "name": "python3"
  },
  "language_info": {
   "codemirror_mode": {
    "name": "ipython",
    "version": 3
   },
   "file_extension": ".py",
   "mimetype": "text/x-python",
   "name": "python",
   "nbconvert_exporter": "python",
   "pygments_lexer": "ipython3",
   "version": "3.13.5"
  },
  "toc": {
   "base_numbering": 1,
   "nav_menu": {},
   "number_sections": true,
   "sideBar": true,
   "skip_h1_title": false,
   "title_cell": "Table of Contents",
   "title_sidebar": "Contents",
   "toc_cell": false,
   "toc_position": {},
   "toc_section_display": true,
   "toc_window_display": false
  }
 },
 "nbformat": 4,
 "nbformat_minor": 5
}
