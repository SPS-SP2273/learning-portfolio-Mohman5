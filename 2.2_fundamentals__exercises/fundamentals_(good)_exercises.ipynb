{
 "cells": [
  {
   "attachments": {},
   "cell_type": "markdown",
   "id": "123456",
   "metadata": {},
   "source": [
    "<div style=\"text-align:left;font-size:2em\"><span style=\"font-weight:bolder;font-size:1.25em\">SP2273 | Learning Portfolio</span><br><br><span style=\"font-weight:bold;color:darkred\">Fundamentals (Good) Exercises</span></div>"
   ]
  },
  {
   "cell_type": "markdown",
   "id": "ac1d3e11",
   "metadata": {},
   "source": [
    "#### **Exercise 1**"
   ]
  },
  {
   "cell_type": "markdown",
   "id": "509593c4",
   "metadata": {},
   "source": [
    "Example 1"
   ]
  },
  {
   "cell_type": "code",
   "execution_count": 1,
   "id": "e4677b8c",
   "metadata": {},
   "outputs": [
    {
     "name": "stdout",
     "output_type": "stream",
     "text": [
      "you entered 10\n"
     ]
    }
   ],
   "source": [
    "user_input = input('Please provide me with a number?')\n",
    "print('you entered', user_input)"
   ]
  },
  {
   "cell_type": "markdown",
   "id": "cb10373b",
   "metadata": {},
   "source": [
    "Task 1"
   ]
  },
  {
   "cell_type": "code",
   "execution_count": 4,
   "id": "66025630",
   "metadata": {},
   "outputs": [
    {
     "name": "stdout",
     "output_type": "stream",
     "text": [
      "How you doin Mohit!\n"
     ]
    }
   ],
   "source": [
    "Name = input(\"What is your name?\")\n",
    "print(\"How you doin\", Name + \"!\")"
   ]
  },
  {
   "cell_type": "markdown",
   "id": "9f91dce8",
   "metadata": {},
   "source": [
    "Task 2"
   ]
  },
  {
   "cell_type": "code",
   "execution_count": 5,
   "id": "f1070299",
   "metadata": {},
   "outputs": [
    {
     "name": "stdout",
     "output_type": "stream",
     "text": [
      "My name is Mohit and I am 21 years old\n"
     ]
    }
   ],
   "source": [
    "Name = input(\"What is your name?\")\n",
    "Age = input(\"What is your age?\")\n",
    "print(\"My name is\", Name, \"and I am\", Age, \"years old\")"
   ]
  },
  {
   "cell_type": "markdown",
   "id": "6ba4855d",
   "metadata": {},
   "source": [
    "Task 3"
   ]
  },
  {
   "cell_type": "code",
   "execution_count": 3,
   "id": "74e7b904",
   "metadata": {},
   "outputs": [
    {
     "name": "stdout",
     "output_type": "stream",
     "text": [
      "3.14\n",
      "3.142\n",
      "3.1416\n"
     ]
    }
   ],
   "source": [
    "pi = 3.141592653589793\n",
    "print(f'{pi:.2f}')\n",
    "print(f\"{pi:.3f}\")\n",
    "print(f\"{pi:.4f}\")"
   ]
  },
  {
   "cell_type": "markdown",
   "id": "9ba43d88",
   "metadata": {},
   "source": [
    "Task 4"
   ]
  },
  {
   "cell_type": "code",
   "execution_count": null,
   "id": "c256b7cd",
   "metadata": {},
   "outputs": [
    {
     "name": "stdout",
     "output_type": "stream",
     "text": [
      "Apple      $ 0.99\n",
      "Banana     $ 0.59\n",
      "Orange     $ 1.29\n"
     ]
    }
   ],
   "source": [
    "\n",
    "print(f\"{'Apple':<10}\", \"$ 0.99\") #The arrow makes spaces\n",
    "print(f\"{'Banana':<10}\", \"$ 0.59\")\n",
    "print(f\"{'Orange':<10}\", \"$ 1.29\")"
   ]
  },
  {
   "cell_type": "markdown",
   "id": "58ddd09b",
   "metadata": {},
   "source": [
    "#### **Exercise 2**"
   ]
  },
  {
   "cell_type": "code",
   "execution_count": 48,
   "id": "83b19789",
   "metadata": {},
   "outputs": [
    {
     "name": "stdout",
     "output_type": "stream",
     "text": [
      "Your grade is A\n"
     ]
    }
   ],
   "source": [
    "Score = input(\"What is your score?\")\n",
    "if 70<=int(Score)<=100:\n",
    "    print('Your grade is A')\n",
    "elif 50<=int(Score)<70:\n",
    "    print('Your grade is B')\n",
    "elif 35<=int(Score)<50:\n",
    "    print('Your grade is C')\n",
    "elif 0<=int(Score)<35:\n",
    "    print(\"You failed\")\n",
    "elif int(Score)>100 or int(Score) < 0:\n",
    "    print(\"Not possible\")\n"
   ]
  },
  {
   "cell_type": "markdown",
   "id": "5380e2f2",
   "metadata": {},
   "source": [
    "#### **Exercise 3(Debugging Code)**"
   ]
  },
  {
   "cell_type": "code",
   "execution_count": 1,
   "id": "2b96f138",
   "metadata": {},
   "outputs": [
    {
     "name": "stdout",
     "output_type": "stream",
     "text": [
      "120\n",
      "invalid input\n"
     ]
    }
   ],
   "source": [
    "\n",
    "def factorial(n, result = 1): #Need to define result first\n",
    "    if n<0:    #Should be n<0 as you cannot take factorials of negative numbers\n",
    "        return \"invalid input\"\n",
    "    elif n==0:\n",
    "        return 1\n",
    "    else:\n",
    "        for number in range(1, n+1):\n",
    "            result = number*result #Should be a multiplication because it's a factorial\n",
    "        return result\n",
    "\n",
    "    \n",
    "print(factorial(5))\n",
    "print(factorial(-1))\n",
    "    \n",
    "\n",
    "\n",
    "    \n"
   ]
  }
 ],
 "metadata": {
  "kernelspec": {
   "display_name": "base",
   "language": "python",
   "name": "python3"
  },
  "language_info": {
   "codemirror_mode": {
    "name": "ipython",
    "version": 3
   },
   "file_extension": ".py",
   "mimetype": "text/x-python",
   "name": "python",
   "nbconvert_exporter": "python",
   "pygments_lexer": "ipython3",
   "version": "3.13.5"
  },
  "toc": {
   "base_numbering": 1,
   "nav_menu": {},
   "number_sections": true,
   "sideBar": true,
   "skip_h1_title": false,
   "title_cell": "Table of Contents",
   "title_sidebar": "Contents",
   "toc_cell": false,
   "toc_position": {},
   "toc_section_display": true,
   "toc_window_display": false
  }
 },
 "nbformat": 4,
 "nbformat_minor": 5
}
