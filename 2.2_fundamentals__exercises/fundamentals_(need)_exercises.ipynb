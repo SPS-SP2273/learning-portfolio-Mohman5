{
 "cells": [
  {
   "attachments": {},
   "cell_type": "markdown",
   "id": "123456",
   "metadata": {},
   "source": [
    "<div style=\"text-align:left;font-size:2em\"><span style=\"font-weight:bolder;font-size:1.25em\">SP2273 | Learning Portfolio</span><br><br><span style=\"font-weight:bold;color:darkred\">Fundamentals (Need) Exercises</span></div>"
   ]
  },
  {
   "cell_type": "markdown",
   "id": "2be797b9",
   "metadata": {},
   "source": [
    "#### **Exercise 1(Total recall?)**"
   ]
  },
  {
   "cell_type": "markdown",
   "id": "de096cf2",
   "metadata": {},
   "source": [
    "Part 1"
   ]
  },
  {
   "cell_type": "markdown",
   "id": "ab7be20c",
   "metadata": {},
   "source": [
    "|python Features|\n",
    "|:---:|\n",
    "|Print() function|\n",
    "|if statements|\n",
    "\n"
   ]
  },
  {
   "cell_type": "markdown",
   "id": "3e5859e5",
   "metadata": {},
   "source": [
    "Part 2"
   ]
  },
  {
   "cell_type": "markdown",
   "id": "b0b920d2",
   "metadata": {},
   "source": [
    "|python Features|\n",
    "|:---:|\n",
    "|Print() function|\n",
    "|Parentheses allows follow a function|\n",
    "|if statements|\n",
    "|Python is case sensitive|\n",
    "|You can write commends using the # key|\n",
    "|= is not the same as ==|\n",
    "|Indendations are very important|\n",
    "|The use of '' distinguishes strings from variables|\n",
    "|Different brackets have different purposes|\n",
    "|You can import packages to make python easier to use|\n",
    "|The dot is used to link the a function to a package|\n"
   ]
  },
  {
   "cell_type": "markdown",
   "id": "ef3abe8e",
   "metadata": {},
   "source": [
    "# Exercise 2"
   ]
  },
  {
   "cell_type": "code",
   "execution_count": 1,
   "id": "f359a482",
   "metadata": {},
   "outputs": [
    {
     "name": "stdout",
     "output_type": "stream",
     "text": [
      "3 4 5.0\n"
     ]
    }
   ],
   "source": [
    "import numpy as np\n",
    "x = 3\n",
    "y = 4\n",
    "z = np.sqrt(x**2 + y**2)\n",
    "print(x, y, z)"
   ]
  },
  {
   "cell_type": "markdown",
   "id": "70d6118f",
   "metadata": {},
   "source": [
    "#### **Exercise 3(In your own words)**"
   ]
  },
  {
   "cell_type": "markdown",
   "id": "252f17ec",
   "metadata": {},
   "source": [
    "|#|**Term**|**Description**|\n",
    "|:---|:---|:---|\n",
    "|1|Function|Functions are used to tell python to execute a certain instruction|\n",
    "|2|Arguements|Arguements are used to make functions execute their command in a manner specific to the argument that is passed to them|\n",
    "|3|Comments|Comments are used to make a set of code easier to understand by labelling what each section of the code does or to communicate specific things about the code to the viewer of the code|\n",
    "|4|Indentations|Indentations are used to signal to signal to python that all consecutive lines of code that have indentations are to be run in respect to only the function directly above them|\n",
    "|5|Packages|Packages contain simplified  that ave been meticulously created and simplified by other people so that we can conveniently call the unique functions that we desire to fulfill specific tasks in our own projects|\n",
    "|6|.|The dot is used to signal link the function that you are calling to the right package that the function you are trying to call is from|\n",
    "|7|:|The colon signals the starting point of a block of code|\n",
    "|8|[]|These brackets are used to tell python that the variables within them belong to a list\n",
    "|9|[[],[]]| This is used to classify a list of lists\n",
    "|10|{}| This is used to store data in a dictionary or in python packages like numpy, it is used to dictate which parts of a function certain variables are used for|"
   ]
  },
  {
   "cell_type": "markdown",
   "id": "7c1fd098",
   "metadata": {},
   "source": [
    "#### **Exercise 4(More than one way to divide)**"
   ]
  },
  {
   "cell_type": "code",
   "execution_count": 1,
   "id": "0f55a505",
   "metadata": {},
   "outputs": [
    {
     "name": "stdout",
     "output_type": "stream",
     "text": [
      "2.5\n",
      "2\n",
      "1\n"
     ]
    }
   ],
   "source": [
    "print(5/2) #This divides 5 by 2 and gives the exact value of the answer\n",
    "print(5//2) #This divides 5 by 2 and rounds down the answer to the nearest integer\n",
    "print(5%2) #This gives the remainder when 5 is divided by 2"
   ]
  }
 ],
 "metadata": {
  "kernelspec": {
   "display_name": "base",
   "language": "python",
   "name": "python3"
  },
  "language_info": {
   "codemirror_mode": {
    "name": "ipython",
    "version": 3
   },
   "file_extension": ".py",
   "mimetype": "text/x-python",
   "name": "python",
   "nbconvert_exporter": "python",
   "pygments_lexer": "ipython3",
   "version": "3.13.5"
  },
  "toc": {
   "base_numbering": 1,
   "nav_menu": {},
   "number_sections": true,
   "sideBar": true,
   "skip_h1_title": false,
   "title_cell": "Table of Contents",
   "title_sidebar": "Contents",
   "toc_cell": false,
   "toc_position": {},
   "toc_section_display": true,
   "toc_window_display": false
  }
 },
 "nbformat": 4,
 "nbformat_minor": 5
}
