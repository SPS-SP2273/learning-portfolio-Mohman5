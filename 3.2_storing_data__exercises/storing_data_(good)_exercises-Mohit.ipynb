{
 "cells": [
  {
   "attachments": {},
   "cell_type": "markdown",
   "id": "123456",
   "metadata": {},
   "source": [
    "<div style=\"text-align:left;font-size:2em\"><span style=\"font-weight:bolder;font-size:1.25em\">SP2273 | Learning Portfolio</span><br><br><span style=\"font-weight:bold;color:darkred\">Storing Data (Good) Exercises</span></div>"
   ]
  },
  {
   "cell_type": "markdown",
   "id": "51234f2c",
   "metadata": {},
   "source": [
    "#### **Exercise 1(Total recall)**"
   ]
  },
  {
   "cell_type": "markdown",
   "id": "75922f14",
   "metadata": {},
   "source": [
    "|**Term**|**Brief description**|\n",
    "|:---|:---|\n",
    "|Subsetting|Refers to selecting a of data in a list or array|\n",
    "|Indexing| Refers to selecting a single element from the data in a list or array|\n",
    "|Slicing| Refers to selecting a range of elements from the data in a list or array|\n",
    "|Masking| Masking refers to the use of conditions to subset arrays or lists|\n"
   ]
  },
  {
   "cell_type": "markdown",
   "id": "bda46254",
   "metadata": {},
   "source": [
    "#### **Exercise 2(Show me the 'odd' letters)**"
   ]
  },
  {
   "cell_type": "code",
   "execution_count": 58,
   "id": "bd34e90c",
   "metadata": {},
   "outputs": [
    {
     "name": "stdout",
     "output_type": "stream",
     "text": [
      "['A' 'C' 'E' 'G' 'I']\n"
     ]
    }
   ],
   "source": [
    "import numpy as np\n",
    "np_array_2d = np.array([[1, \"A\"], [3, \"C\"], [2, \"B\"], [4, \"D\"],\n",
    "                        [5, \"E\"], [7, \"G\"], [6, \"F\"], [8, \"H\"],\n",
    "                        [10, \"J\"], [9, \"I\"]])\n",
    "str_number_array = np_array_2d[0:10, 0]\n",
    "number_array = str_number_array.astype(int)\n",
    "odd_array_checker = number_array%2 > 0\n",
    "odd_arrays_and_letters = np_array_2d[odd_array_checker]\n",
    "odd_letters = odd_arrays_and_letters[0:,1]\n",
    "print(odd_letters)\n",
    "\n"
   ]
  },
  {
   "cell_type": "markdown",
   "id": "250d4265",
   "metadata": {},
   "source": [
    "#### **Exercise 3**"
   ]
  },
  {
   "cell_type": "code",
   "execution_count": 73,
   "id": "ad300828",
   "metadata": {},
   "outputs": [
    {
     "name": "stdout",
     "output_type": "stream",
     "text": [
      "[[ 1  0  1 -1 -1]\n",
      " [ 1 -1  1 -1 -1]\n",
      " [ 1 -1 -1  1 -1]\n",
      " [-1  1  1 -1 -1]\n",
      " [ 1 -1  1 -1  1]]\n"
     ]
    }
   ],
   "source": [
    "np_array_2d = np.array([[66, 50, 57, -1, -1],\n",
    " [92, -1, 88, -1, -1],\n",
    " [75, -1, -1, 76, -1],\n",
    " [-1, 51, 87, -1, -1],\n",
    " [71, -1, 67, -1, 69]])\n",
    "\n",
    "np_array_2d[np_array_2d>50]  = 1\n",
    "np_array_2d[np_array_2d==50] = 0\n",
    "print(np_array_2d)\n",
    "\n"
   ]
  }
 ],
 "metadata": {
  "kernelspec": {
   "display_name": "base",
   "language": "python",
   "name": "python3"
  },
  "language_info": {
   "codemirror_mode": {
    "name": "ipython",
    "version": 3
   },
   "file_extension": ".py",
   "mimetype": "text/x-python",
   "name": "python",
   "nbconvert_exporter": "python",
   "pygments_lexer": "ipython3",
   "version": "3.13.5"
  },
  "toc": {
   "base_numbering": 1,
   "nav_menu": {},
   "number_sections": true,
   "sideBar": true,
   "skip_h1_title": false,
   "title_cell": "Table of Contents",
   "title_sidebar": "Contents",
   "toc_cell": false,
   "toc_position": {},
   "toc_section_display": true,
   "toc_window_display": false
  }
 },
 "nbformat": 4,
 "nbformat_minor": 5
}
