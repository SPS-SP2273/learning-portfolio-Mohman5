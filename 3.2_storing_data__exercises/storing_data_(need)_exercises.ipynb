{
 "cells": [
  {
   "attachments": {},
   "cell_type": "markdown",
   "id": "123456",
   "metadata": {},
   "source": [
    "<div style=\"text-align:left;font-size:2em\"><span style=\"font-weight:bolder;font-size:1.25em\">SP2273 | Learning Portfolio</span><br><br><span style=\"font-weight:bold;color:darkred\">Storing Data (Need) Exercises</span></div>"
   ]
  },
  {
   "cell_type": "markdown",
   "id": "7d64a24b",
   "metadata": {},
   "source": [
    "#### **Exercise 1(Total recall?)**"
   ]
  },
  {
   "cell_type": "markdown",
   "id": "64b57feb",
   "metadata": {},
   "source": [
    "1. Lists and arrays can both be used to store a large number of data.\n",
    "You can call any element in either a list or array individually using list() or array()\n",
    "\n",
    "2. Arrays can only contain a single data type while lists can accomodate various types.\n",
    " An operation on a list works on the whole list while an operation on an array works on the indiviudal elements of the array\n",
    "\n",
    "3. A dictionary is like a 2d array where for each pair of datasets, one acts as a key which returns the other when called.\n",
    "\n",
    "    \n"
   ]
  },
  {
   "cell_type": "markdown",
   "id": "2888f502",
   "metadata": {},
   "source": [
    "#### **Exercise 2(Indexing)**"
   ]
  },
  {
   "cell_type": "code",
   "execution_count": 1,
   "id": "2cc944ea",
   "metadata": {},
   "outputs": [
    {
     "name": "stdout",
     "output_type": "stream",
     "text": [
      "a1\n",
      "c3\n",
      "e5\n",
      "g7\n",
      "i9\n"
     ]
    }
   ],
   "source": [
    "py_list = [\"a1\", \"b2\", \"c3\", \"d4\", \"e5\", \"f6\", \"g7\", \"h8\", \"i9\", \"j10\"]\n",
    "print(py_list[0])   # Prints 'a1'\n",
    "print(py_list[2])   # Prints 'c3'\n",
    "print(py_list[4])   # Prints 'e5'\n",
    "print(py_list[6])   # Prints 'g7'\n",
    "print(py_list[8])   # Prints 'i9'"
   ]
  },
  {
   "cell_type": "markdown",
   "id": "98ef976d",
   "metadata": {},
   "source": [
    "#### **Exercise 3(Index again)**"
   ]
  },
  {
   "cell_type": "code",
   "execution_count": 6,
   "id": "28393c43",
   "metadata": {},
   "outputs": [
    {
     "name": "stdout",
     "output_type": "stream",
     "text": [
      "Beryllium\n",
      "Beryllium\n"
     ]
    }
   ],
   "source": [
    "elements = ['Hydrogen',\n",
    "            'Helium', 'Lithium',\n",
    "            'Beryllium', 'Boron', 'Carbon',\n",
    "            'Nitrogen', 'Oxygen',\n",
    "            'Fluorine',\n",
    "            'Neon']\n",
    "print(elements[3])\n",
    "print(elements[-7])"
   ]
  },
  {
   "cell_type": "markdown",
   "id": "03b27ffd",
   "metadata": {},
   "source": [
    "#### **Exercise 4(How many ones)**"
   ]
  },
  {
   "cell_type": "code",
   "execution_count": 11,
   "id": "7f0f8423",
   "metadata": {},
   "outputs": [
    {
     "name": "stdout",
     "output_type": "stream",
     "text": [
      "9\n"
     ]
    }
   ],
   "source": [
    "import numpy as np\n",
    "numbers=[45, 60, 1, 30, 96, 1, 96, 57, 16, 1,\n",
    "        99, 62, 86, 43, 42, 60, 59, 1, 1, 35,\n",
    "        83, 47, 34, 28, 68, 23, 22, 92, 1, 79,\n",
    "        1, 29, 94, 72, 46, 47, 1, 74, 32, 20,\n",
    "        8, 37, 35, 1, 89, 29, 86, 19, 43, 61] \n",
    "numbers_array = np.array(numbers)\n",
    "print(sum(numbers_array == 1))\n"
   ]
  },
  {
   "cell_type": "markdown",
   "id": "96893315",
   "metadata": {},
   "source": [
    "#### **Exercise 5(A Matter of Statistics)**"
   ]
  },
  {
   "cell_type": "code",
   "execution_count": 18,
   "id": "265b04ef",
   "metadata": {},
   "outputs": [
    {
     "name": "stdout",
     "output_type": "stream",
     "text": [
      "38.5\n",
      "302.5\n",
      "32.41990129534635\n",
      "326.0893282522444\n",
      "0.9871796626270701\n",
      "[[1.         0.98717966]\n",
      " [0.98717966 1.        ]]\n"
     ]
    }
   ],
   "source": [
    "import numpy as np\n",
    "x_1 = [1, 4, 9, 16, 25, 36, 49, 64, 81, 100]\n",
    "x_2 = [1, 8, 27, 64, 125, 216, 343, 512, 729, 1000]\n",
    "mean_x1 = np.mean(x_1)\n",
    "mean_x2 = np.mean(x_2)\n",
    "print(mean_x1)\n",
    "print(mean_x2)   #Mean of x_1 and x_2\n",
    "\n",
    "std_x1 = np.std(x_1)\n",
    "std_x2 = np.std(x_2)\n",
    "print(std_x1)\n",
    "print(std_x2)    #standard deviation of x_1 and x_2\n",
    "\n",
    "x1 = np.array(x_1)\n",
    "x2 = np.array(x_2)\n",
    "numerator = sum((x1-mean_x1)*(x2-mean_x2))\n",
    "denominator = np.sqrt(sum((x1-mean_x1)**2)*sum((x2-mean_x2)**2))\n",
    "r = numerator/denominator\n",
    "print(r)\n",
    "\n",
    "print(np.corrcoef(x_1, x_2)) #Checking with the function\n"
   ]
  }
 ],
 "metadata": {
  "kernelspec": {
   "display_name": "base",
   "language": "python",
   "name": "python3"
  },
  "language_info": {
   "codemirror_mode": {
    "name": "ipython",
    "version": 3
   },
   "file_extension": ".py",
   "mimetype": "text/x-python",
   "name": "python",
   "nbconvert_exporter": "python",
   "pygments_lexer": "ipython3",
   "version": "3.13.5"
  },
  "toc": {
   "base_numbering": 1,
   "nav_menu": {},
   "number_sections": true,
   "sideBar": true,
   "skip_h1_title": false,
   "title_cell": "Table of Contents",
   "title_sidebar": "Contents",
   "toc_cell": false,
   "toc_position": {},
   "toc_section_display": true,
   "toc_window_display": false
  }
 },
 "nbformat": 4,
 "nbformat_minor": 5
}
