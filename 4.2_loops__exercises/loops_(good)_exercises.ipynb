{
 "cells": [
  {
   "attachments": {},
   "cell_type": "markdown",
   "id": "123456",
   "metadata": {},
   "source": [
    "<div style=\"text-align:left;font-size:2em\"><span style=\"font-weight:bolder;font-size:1.25em\">SP2273 | Learning Portfolio</span><br><br><span style=\"font-weight:bold;color:darkred\">Loops (Good) Exercises</span></div>"
   ]
  },
  {
   "cell_type": "markdown",
   "id": "56ec9e99",
   "metadata": {},
   "source": [
    "#### **Exercise 1(Make me an odd list)**\n"
   ]
  },
  {
   "cell_type": "code",
   "execution_count": 17,
   "id": "0f73c7a4",
   "metadata": {},
   "outputs": [
    {
     "name": "stdout",
     "output_type": "stream",
     "text": [
      "[1, 9, 25, 49, 81]\n"
     ]
    }
   ],
   "source": [
    "#%%timeit\n",
    "odd_square_list = []\n",
    "for i in range(10):\n",
    "    if i%2 == 0:\n",
    "        continue\n",
    "    odd_square_list.append(i**2)\n",
    "print(odd_square_list)\n"
   ]
  },
  {
   "cell_type": "markdown",
   "id": "f9e5c8b7",
   "metadata": {},
   "source": [
    "#### **Exercise 2(Make me another odd list)**"
   ]
  },
  {
   "cell_type": "code",
   "execution_count": 18,
   "id": "bfdcb78c",
   "metadata": {},
   "outputs": [
    {
     "name": "stdout",
     "output_type": "stream",
     "text": [
      "[1, 9, 25, 49, 81]\n"
     ]
    }
   ],
   "source": [
    "#%%timeit\n",
    "import numpy as np\n",
    "array = np.array([0,1,2,3,4,5,6,7,8,9])\n",
    "odd_square_list = [x**2 for x in range(10) if x%2 != 0]\n",
    "print(odd_square_list)"
   ]
  },
  {
   "cell_type": "markdown",
   "id": "5e7a8a7f",
   "metadata": {},
   "source": [
    "#### **Exercise 3(Time me!)**"
   ]
  },
  {
   "cell_type": "markdown",
   "id": "e2748a53",
   "metadata": {},
   "source": [
    "The solution using loops was faster"
   ]
  },
  {
   "cell_type": "markdown",
   "id": "1e2cba23",
   "metadata": {},
   "source": [
    "#### **Exercise 4(A problem of decay)**"
   ]
  },
  {
   "cell_type": "code",
   "execution_count": 1,
   "id": "061e78cf",
   "metadata": {},
   "outputs": [
    {
     "name": "stdout",
     "output_type": "stream",
     "text": [
      "Sample took 10 years to decay to half its original value\n"
     ]
    }
   ],
   "source": [
    "quantity = 100\n",
    "time = 0\n",
    "while quantity >50:\n",
    "    quantity = quantity - 5\n",
    "    time = time + 1\n",
    "print(f'Sample took {time} years to decay to half its original value')\n"
   ]
  },
  {
   "cell_type": "markdown",
   "id": "d0a9c413",
   "metadata": {},
   "source": [
    "#### **Exercise 5(Changes in CO2)**"
   ]
  },
  {
   "cell_type": "code",
   "execution_count": 14,
   "id": "a3c6cabd",
   "metadata": {},
   "outputs": [
    {
     "name": "stdout",
     "output_type": "stream",
     "text": [
      "CO2 increased from year 2015 to year 2016 by 3.41 ppm\n"
     ]
    }
   ],
   "source": [
    "import numpy as np\n",
    "co2_data = np.array([(2000, 369.55), (2001, 371.14), (2002, 373.28), \n",
    "    (2003, 375.80), (2004, 377.52), (2005, 379.80), \n",
    "    (2006, 381.90), (2007, 383.79), (2008, 385.60), \n",
    "    (2009, 387.43), (2010, 389.90), (2011, 391.65), \n",
    "    (2012, 393.85), (2013, 396.52), (2014, 398.65),\n",
    "    (2015, 400.83), (2016, 404.24), (2017, 406.55), \n",
    "    (2018, 408.52), (2019, 411.44), (2020, 414.24)])\n",
    "number_of_years = len(co2_data)\n",
    "for i in range(number_of_years-1):\n",
    "    if co2_data[i+1,1]-co2_data[i,1]>=3:\n",
    "        print(f'CO2 increased from year {int(co2_data[i,0])} to year {int(co2_data[i+1,0])} by {co2_data[i+1,1]-co2_data[i,1]:.2f} ppm')\n"
   ]
  }
 ],
 "metadata": {
  "kernelspec": {
   "display_name": "base",
   "language": "python",
   "name": "python3"
  },
  "language_info": {
   "codemirror_mode": {
    "name": "ipython",
    "version": 3
   },
   "file_extension": ".py",
   "mimetype": "text/x-python",
   "name": "python",
   "nbconvert_exporter": "python",
   "pygments_lexer": "ipython3",
   "version": "3.13.5"
  },
  "toc": {
   "base_numbering": 1,
   "nav_menu": {},
   "number_sections": true,
   "sideBar": true,
   "skip_h1_title": false,
   "title_cell": "Table of Contents",
   "title_sidebar": "Contents",
   "toc_cell": false,
   "toc_position": {},
   "toc_section_display": true,
   "toc_window_display": false
  }
 },
 "nbformat": 4,
 "nbformat_minor": 5
}
