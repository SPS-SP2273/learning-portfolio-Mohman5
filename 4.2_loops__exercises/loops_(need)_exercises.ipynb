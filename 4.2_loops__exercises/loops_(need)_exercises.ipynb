{
 "cells": [
  {
   "attachments": {},
   "cell_type": "markdown",
   "id": "123456",
   "metadata": {},
   "source": [
    "<div style=\"text-align:left;font-size:2em\"><span style=\"font-weight:bolder;font-size:1.25em\">SP2273 | Learning Portfolio</span><br><br><span style=\"font-weight:bold;color:darkred\">Loops (Need) Exercises</span></div>"
   ]
  },
  {
   "cell_type": "markdown",
   "id": "e74c2ce4",
   "metadata": {},
   "source": [
    "#### **Exercise 1(Celcius to Farenheit**)"
   ]
  },
  {
   "cell_type": "code",
   "execution_count": null,
   "id": "f06b7739",
   "metadata": {},
   "outputs": [
    {
     "name": "stdout",
     "output_type": "stream",
     "text": [
      "0 degrees Celsius 32.0 farenheit\n",
      "5 degrees Celsius 41.0 farenheit\n",
      "10 degrees Celsius 50.0 farenheit\n",
      "15 degrees Celsius 59.0 farenheit\n",
      "20 degrees Celsius 68.0 farenheit\n",
      "25 degrees Celsius 77.0 farenheit\n",
      "30 degrees Celsius 86.0 farenheit\n",
      "35 degrees Celsius 95.0 farenheit\n",
      "40 degrees Celsius 104.0 farenheit\n",
      "45 degrees Celsius 113.0 farenheit\n",
      "50 degrees Celsius 122.0 farenheit\n"
     ]
    }
   ],
   "source": [
    "temperatures_celsius = [\n",
    "    0, 5, 10, 15, 20, 25,\n",
    "    30, 35, 40, 45, 50\n",
    "]\n",
    "for x in temperatures_celsius:\n",
    "    print(f'{x} degrees Celsius {1.8*x+32} fahrenheit')\n"
   ]
  },
  {
   "cell_type": "markdown",
   "id": "dbfef37a",
   "metadata": {},
   "source": [
    "#### **Exercise 2(Multiplication table)**"
   ]
  },
  {
   "cell_type": "code",
   "execution_count": 1,
   "id": "13b33e2d",
   "metadata": {},
   "outputs": [
    {
     "name": "stdout",
     "output_type": "stream",
     "text": [
      "1:\t1\t2\t3\t4\t5\t\n",
      "\n",
      "2:\t2\t4\t6\t8\t10\t\n",
      "\n",
      "3:\t3\t6\t9\t12\t15\t\n",
      "\n",
      "4:\t4\t8\t12\t16\t20\t\n",
      "\n",
      "5:\t5\t10\t15\t20\t25\t\n",
      "\n"
     ]
    }
   ],
   "source": [
    "import numpy as np\n",
    "array = np.array([1,2,3,4,5])\n",
    "for count,i in enumerate(array,1):\n",
    "    print(f'{count}:', end = '\\t')\n",
    "    for x in range(5):\n",
    "        print(i*array[x], end='\\t')\n",
    "    print('\\n')\n"
   ]
  },
  {
   "cell_type": "markdown",
   "id": "da0249f0",
   "metadata": {},
   "source": [
    "#### **Exercise 3(Simulation a Coin Flip Experiment)**"
   ]
  },
  {
   "cell_type": "code",
   "execution_count": null,
   "id": "c6388f15",
   "metadata": {},
   "outputs": [
    {
     "name": "stdout",
     "output_type": "stream",
     "text": [
      "Experiment 1: No. of Heads = 5\n",
      "Experiment 2: No. of Heads = 6\n",
      "Experiment 3: No. of Heads = 6\n",
      "Experiment 4: No. of Heads = 4\n",
      "Experiment 5: No. of Heads = 5\n",
      "Experiment 6: No. of Heads = 3\n",
      "Experiment 7: No. of Heads = 3\n",
      "Experiment 8: No. of Heads = 8\n",
      "Experiment 9: No. of Heads = 5\n",
      "Experiment 10: No. of Heads = 8\n"
     ]
    }
   ],
   "source": [
    "\n",
    "import numpy as np\n",
    "for i in range(10):\n",
    "    flips = np.random.rand(10)\n",
    "    flips[flips>0.5]=1\n",
    "    flips[flips<0.5]=0\n",
    "    heads = int(sum(flips)) #Finding number of heads\n",
    "    print(f'Experiment {i+1}: No. of Heads = {heads}') \n",
    "\n",
    "\n",
    "\n",
    "\n",
    "\n",
    "\n"
   ]
  }
 ],
 "metadata": {
  "kernelspec": {
   "display_name": "base",
   "language": "python",
   "name": "python3"
  },
  "language_info": {
   "codemirror_mode": {
    "name": "ipython",
    "version": 3
   },
   "file_extension": ".py",
   "mimetype": "text/x-python",
   "name": "python",
   "nbconvert_exporter": "python",
   "pygments_lexer": "ipython3",
   "version": "3.13.5"
  },
  "toc": {
   "base_numbering": 1,
   "nav_menu": {},
   "number_sections": true,
   "sideBar": true,
   "skip_h1_title": false,
   "title_cell": "Table of Contents",
   "title_sidebar": "Contents",
   "toc_cell": false,
   "toc_position": {},
   "toc_section_display": true,
   "toc_window_display": false
  }
 },
 "nbformat": 4,
 "nbformat_minor": 5
}
