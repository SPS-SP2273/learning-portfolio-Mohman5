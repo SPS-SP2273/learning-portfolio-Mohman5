{
 "cells": [
  {
   "attachments": {},
   "cell_type": "markdown",
   "id": "123456",
   "metadata": {},
   "source": [
    "<div style=\"text-align:left;font-size:2em\"><span style=\"font-weight:bolder;font-size:1.25em\">SP2273 | Learning Portfolio</span><br><br><span style=\"font-weight:bold;color:darkred\">Functions (Good) Exercises</span></div>"
   ]
  },
  {
   "cell_type": "markdown",
   "id": "05f8b2a5",
   "metadata": {},
   "source": [
    "#### **Exercise 1(Celsius to Farenheit or Kelvin)**"
   ]
  },
  {
   "cell_type": "code",
   "execution_count": 1,
   "id": "426582ed",
   "metadata": {},
   "outputs": [
    {
     "name": "stdout",
     "output_type": "stream",
     "text": [
      "32.0\n"
     ]
    }
   ],
   "source": [
    "def convert_celsius(temperature,units='Farenheit'):\n",
    "    if units == 'Farenheit':\n",
    "        print(temperature*1.8+32)\n",
    "    elif units == 'Kelvin':\n",
    "        print(temperature-273)\n",
    "    else:\n",
    "        print('I do not understand')\n",
    "\n",
    "convert_celsius(0)\n",
    "\n",
    "\n",
    "    \n",
    "    "
   ]
  },
  {
   "cell_type": "markdown",
   "id": "2c5827d0",
   "metadata": {},
   "source": [
    "#### **Exercise 2(Farenheit to Celsius or Kelvin)**"
   ]
  },
  {
   "cell_type": "code",
   "execution_count": 5,
   "id": "0029e188",
   "metadata": {},
   "outputs": [
    {
     "name": "stdout",
     "output_type": "stream",
     "text": [
      "54.44444444444444\n"
     ]
    }
   ],
   "source": [
    "def convert_farenheit(temperature_farenheit, target_scale = 'Celsius'):\n",
    "    if target_scale == 'Celsius':\n",
    "        print((temperature_farenheit-32)/1.8)\n",
    "    elif target_scale == \"Kelvin\":\n",
    "        print(((temperature_farenheit-32)/1.8)+273)\n",
    "    else:\n",
    "        print('Invalid input')\n",
    "convert_farenheit(130)"
   ]
  },
  {
   "cell_type": "markdown",
   "id": "5904886c",
   "metadata": {},
   "source": [
    "#### **Exercise 3(General Temperature Conversion)**"
   ]
  },
  {
   "cell_type": "code",
   "execution_count": 10,
   "id": "de8cf5b9",
   "metadata": {},
   "outputs": [
    {
     "name": "stdout",
     "output_type": "stream",
     "text": [
      "573\n",
      "27\n",
      "572.0\n",
      "148.88888888888889\n",
      "421.8888888888889\n",
      "80.6\n"
     ]
    }
   ],
   "source": [
    "def convert_temperature(temperature, source_scale, target_scale):\n",
    "    if source_scale == 'Celsius' and target_scale == 'Farenheit':\n",
    "        print(temperature*1.8+32)\n",
    "    elif source_scale == 'Celsius' and target_scale == 'Kelvin':\n",
    "        print(temperature+273)\n",
    "    elif source_scale == 'Farenheit' and target_scale == 'Celsius':\n",
    "        print((temperature-32)/1.8)\n",
    "    elif source_scale == 'Farenheit' and target_scale == 'Kelvin':\n",
    "        print(((temperature-32)/1.8)+273)\n",
    "    elif source_scale == 'Kelvin' and target_scale == 'Celsius':\n",
    "        print(temperature-273)\n",
    "    elif source_scale == 'Kelvin' and target_scale == 'Farenheit':\n",
    "        print(((temperature-273)*1.8)+32)\n",
    "    \n",
    "convert_temperature(300, 'Celsius', 'Kelvin')\n",
    "convert_temperature(300, 'Kelvin', 'Celsius')\n",
    "convert_temperature(300, 'Celsius', 'Farenheit')\n",
    "convert_temperature(300, 'Farenheit', 'Celsius')\n",
    "convert_temperature(300, 'Farenheit', 'Kelvin')\n",
    "convert_temperature(300, 'Kelvin', 'Farenheit')\n",
    "\n",
    "\n"
   ]
  }
 ],
 "metadata": {
  "kernelspec": {
   "display_name": "base",
   "language": "python",
   "name": "python3"
  },
  "language_info": {
   "codemirror_mode": {
    "name": "ipython",
    "version": 3
   },
   "file_extension": ".py",
   "mimetype": "text/x-python",
   "name": "python",
   "nbconvert_exporter": "python",
   "pygments_lexer": "ipython3",
   "version": "3.13.5"
  },
  "toc": {
   "base_numbering": 1,
   "nav_menu": {},
   "number_sections": true,
   "sideBar": true,
   "skip_h1_title": false,
   "title_cell": "Table of Contents",
   "title_sidebar": "Contents",
   "toc_cell": false,
   "toc_position": {},
   "toc_section_display": true,
   "toc_window_display": false
  }
 },
 "nbformat": 4,
 "nbformat_minor": 5
}
