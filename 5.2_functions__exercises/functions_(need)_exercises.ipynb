{
 "cells": [
  {
   "attachments": {},
   "cell_type": "markdown",
   "id": "123456",
   "metadata": {},
   "source": [
    "<div style=\"text-align:left;font-size:2em\"><span style=\"font-weight:bolder;font-size:1.25em\">SP2273 | Learning Portfolio</span><br><br><span style=\"font-weight:bold;color:darkred\">Functions (Need) Exercises</span></div>"
   ]
  },
  {
   "cell_type": "markdown",
   "id": "1941a602",
   "metadata": {},
   "source": [
    "#### **Exercise 1(Do you know why?)**"
   ]
  },
  {
   "cell_type": "markdown",
   "id": "4f8891b5",
   "metadata": {},
   "source": [
    "If the condition name == Batman is true, python comes accross the first \"return\" function and executes it, ignoring all the code that comes after it. This is the same way \"else\" code blocks are skipped when the \"if\" condition is true, except that the code after the \"else\" code block will still continue to run, while for the function shown all the code after the first \"return\" is ignored. When the condition is false, the first \"return\" is skipped and the rest of the code in the function is run. "
   ]
  },
  {
   "cell_type": "markdown",
   "id": "fa2cc424",
   "metadata": {},
   "source": [
    "#### **Exercise 2(Chubby or not?)**"
   ]
  },
  {
   "cell_type": "code",
   "execution_count": null,
   "id": "0c895138",
   "metadata": {},
   "outputs": [
    {
     "data": {
      "text/plain": [
       "'Normal Weight'"
      ]
     },
     "execution_count": 4,
     "metadata": {},
     "output_type": "execute_result"
    }
   ],
   "source": [
    "def calculate_bmi(weight, height):\n",
    "    bmi= weight/(height**2)\n",
    "    if bmi < 18.5:         #Did not use <= as question stated \"less than 18.5\" and not \"18.5 and less\"\n",
    "        return 'Underweight'\n",
    "    elif 18.5<=bmi<=24.9:\n",
    "        return 'Normal Weight'\n",
    "    elif 25<=bmi<=29.9:\n",
    "        return 'Overweight'\n",
    "    elif bmi>=30:\n",
    "        return 'Obese'\n",
    "\n",
    "calculate_bmi(67, 1.75)"
   ]
  },
  {
   "cell_type": "markdown",
   "id": "9e2eb42c",
   "metadata": {},
   "source": [
    "#### **Exercise 3(Factorials)**"
   ]
  },
  {
   "cell_type": "code",
   "execution_count": 9,
   "id": "1c40d490",
   "metadata": {},
   "outputs": [
    {
     "data": {
      "text/plain": [
       "1"
      ]
     },
     "execution_count": 9,
     "metadata": {},
     "output_type": "execute_result"
    }
   ],
   "source": [
    "def factorial(number):\n",
    "    if number < 0:\n",
    "        return 'Invalid input'\n",
    "    else:\n",
    "        x=1\n",
    "        for i in range(number):\n",
    "           x = x*(i+1)\n",
    "        return x\n",
    "\n",
    "factorial(0)"
   ]
  }
 ],
 "metadata": {
  "kernelspec": {
   "display_name": "base",
   "language": "python",
   "name": "python3"
  },
  "language_info": {
   "codemirror_mode": {
    "name": "ipython",
    "version": 3
   },
   "file_extension": ".py",
   "mimetype": "text/x-python",
   "name": "python",
   "nbconvert_exporter": "python",
   "pygments_lexer": "ipython3",
   "version": "3.13.5"
  },
  "toc": {
   "base_numbering": 1,
   "nav_menu": {},
   "number_sections": true,
   "sideBar": true,
   "skip_h1_title": false,
   "title_cell": "Table of Contents",
   "title_sidebar": "Contents",
   "toc_cell": false,
   "toc_position": {},
   "toc_section_display": true,
   "toc_window_display": false
  }
 },
 "nbformat": 4,
 "nbformat_minor": 5
}
