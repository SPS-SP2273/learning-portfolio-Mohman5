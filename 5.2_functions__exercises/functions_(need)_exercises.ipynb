{
 "cells": [
  {
   "attachments": {},
   "cell_type": "markdown",
   "id": "123456",
   "metadata": {},
   "source": [
    "<div style=\"text-align:left;font-size:2em\"><span style=\"font-weight:bolder;font-size:1.25em\">SP2273 | Learning Portfolio</span><br><br><span style=\"font-weight:bold;color:darkred\">Functions (Need) Exercises</span></div>"
   ]
  },
  {
   "cell_type": "markdown",
   "id": "1941a602",
   "metadata": {},
   "source": [
    "#### **Exercise 1(Do you know why?)**"
   ]
  },
  {
   "cell_type": "code",
   "execution_count": null,
   "id": "cd70dde9",
   "metadata": {},
   "outputs": [],
   "source": []
  },
  {
   "cell_type": "code",
   "execution_count": null,
   "id": "0fee5254",
   "metadata": {},
   "outputs": [],
   "source": []
  },
  {
   "cell_type": "markdown",
   "id": "fa2cc424",
   "metadata": {},
   "source": [
    "#### **Exercise 2(Chubby or not?)**"
   ]
  },
  {
   "cell_type": "code",
   "execution_count": 1,
   "id": "0c895138",
   "metadata": {},
   "outputs": [
    {
     "name": "stdout",
     "output_type": "stream",
     "text": [
      "Normal Weight\n"
     ]
    }
   ],
   "source": [
    "def calculate_bmi(height,weight):\n",
    "    bmi= weight/(height**2)\n",
    "    if bmi < 18.5:\n",
    "        print('Underweight')\n",
    "    elif 18.5<bmi<24.9:\n",
    "        print('Normal Weight')\n",
    "    elif 25<=bmi<29.9:\n",
    "        print('Overweight')\n",
    "    elif bmi>30:\n",
    "        print('Obese')\n",
    "\n",
    "calculate_bmi(1.75,67)"
   ]
  },
  {
   "cell_type": "markdown",
   "id": "9e2eb42c",
   "metadata": {},
   "source": [
    "#### **Exercise 3(Factorials)**"
   ]
  },
  {
   "cell_type": "code",
   "execution_count": 11,
   "id": "1c40d490",
   "metadata": {},
   "outputs": [
    {
     "data": {
      "text/plain": [
       "3628800"
      ]
     },
     "execution_count": 11,
     "metadata": {},
     "output_type": "execute_result"
    }
   ],
   "source": [
    "def factorial(number):\n",
    "    x=1\n",
    "    for i in range(number):\n",
    "        x = x*(i+1)\n",
    "    return x\n",
    "\n",
    "factorial(10)"
   ]
  }
 ],
 "metadata": {
  "kernelspec": {
   "display_name": "base",
   "language": "python",
   "name": "python3"
  },
  "language_info": {
   "codemirror_mode": {
    "name": "ipython",
    "version": 3
   },
   "file_extension": ".py",
   "mimetype": "text/x-python",
   "name": "python",
   "nbconvert_exporter": "python",
   "pygments_lexer": "ipython3",
   "version": "3.13.5"
  },
  "toc": {
   "base_numbering": 1,
   "nav_menu": {},
   "number_sections": true,
   "sideBar": true,
   "skip_h1_title": false,
   "title_cell": "Table of Contents",
   "title_sidebar": "Contents",
   "toc_cell": false,
   "toc_position": {},
   "toc_section_display": true,
   "toc_window_display": false
  }
 },
 "nbformat": 4,
 "nbformat_minor": 5
}
