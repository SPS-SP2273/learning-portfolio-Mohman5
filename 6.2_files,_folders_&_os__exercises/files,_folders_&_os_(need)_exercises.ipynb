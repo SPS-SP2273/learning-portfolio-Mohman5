{
 "cells": [
  {
   "attachments": {},
   "cell_type": "markdown",
   "id": "123456",
   "metadata": {},
   "source": [
    "<div style=\"text-align:left;font-size:2em\"><span style=\"font-weight:bolder;font-size:1.25em\">SP2273 | Learning Portfolio</span><br><br><span style=\"font-weight:bold;color:darkred\">Files, Folders & OS (Need) Exercises</span></div>"
   ]
  },
  {
   "cell_type": "markdown",
   "id": "b641b0d1",
   "metadata": {},
   "source": [
    "#### **Exercise 1(Tidying a collaboration)**"
   ]
  },
  {
   "cell_type": "markdown",
   "id": "2db08871",
   "metadata": {},
   "source": [
    "#### **Task 1**"
   ]
  },
  {
   "cell_type": "code",
   "execution_count": null,
   "id": "cd0bd318",
   "metadata": {},
   "outputs": [
    {
     "name": "stdout",
     "output_type": "stream",
     "text": [
      "10-08_singapore.txt\n"
     ]
    }
   ],
   "source": [
    "import os\n",
    "import shutil\n",
    "import glob\n",
    "conversion = {\n",
    "'jan': '01', 'feb': '02', 'mar': '03',\n",
    "'apr': '04', 'may': '05', 'jun': '06',\n",
    "'jul': '07', 'aug': '08', 'sep': '09',\n",
    "'oct': '10', 'nov': '11', 'dec': '12'\n",
    "}\n",
    "\n",
    "old_path = 'oct-08_singapore.txt'\n",
    "new_path = conversion[f'{old_path[0:3]}'] + old_path[3:]\n",
    "print(new_path)\n"
   ]
  },
  {
   "cell_type": "markdown",
   "id": "f8e5e72d",
   "metadata": {},
   "source": [
    "#### **Task 2**"
   ]
  },
  {
   "cell_type": "code",
   "execution_count": 11,
   "id": "f55ff671",
   "metadata": {},
   "outputs": [
    {
     "data": {
      "text/plain": [
       "'04-01_shanghai'"
      ]
     },
     "execution_count": 11,
     "metadata": {},
     "output_type": "execute_result"
    }
   ],
   "source": [
    "def rename_my_file(old_file_name):\n",
    "    new_file_name = conversion[f'{old_file_name[0:3]}'] + old_file_name[3:]\n",
    "    return new_file_name\n",
    "\n",
    "\n",
    "\n",
    "rename_my_file('apr-01_shanghai')\n"
   ]
  },
  {
   "cell_type": "markdown",
   "id": "9e6cfdca",
   "metadata": {},
   "source": [
    "#### **Task 3**"
   ]
  },
  {
   "cell_type": "code",
   "execution_count": 15,
   "id": "2e85b153",
   "metadata": {},
   "outputs": [
    {
     "name": "stdout",
     "output_type": "stream",
     "text": [
      "oct-08_singapore.txt ----> 10-08_singapore.txt\n",
      "jul-10_cairo.txt ----> 07-10_cairo.txt\n",
      "may-15_dhaka.txt ----> 05-15_dhaka.txt\n",
      "may-13_cairo.txt ----> 05-13_cairo.txt\n",
      "oct-21_cairo.txt ----> 10-21_cairo.txt\n",
      "jan-10_singapore.txt ----> 01-10_singapore.txt\n",
      "jun-20_tokyo.txt ----> 06-20_tokyo.txt\n",
      "aug-06_jakarta.txt ----> 08-06_jakarta.txt\n",
      "dec-21_karachi.txt ----> 12-21_karachi.txt\n",
      "jan-01_tokyo.txt ----> 01-01_tokyo.txt\n"
     ]
    }
   ],
   "source": [
    "file_names = ['oct-08_singapore.txt', 'jul-10_cairo.txt', 'may-15_dhaka.txt',\n",
    " 'may-13_cairo.txt', 'oct-21_cairo.txt', 'jan-10_singapore.txt',\n",
    " 'jun-20_tokyo.txt', 'aug-06_jakarta.txt', 'dec-21_karachi.txt',\n",
    " 'jan-01_tokyo.txt']\n",
    "\n",
    "for file in file_names:\n",
    "    print(file, '---->', end = ' ')\n",
    "    print(rename_my_file(file))\n",
    "\n",
    " \n",
    "\n"
   ]
  },
  {
   "cell_type": "markdown",
   "id": "dbe6c33c",
   "metadata": {},
   "source": [
    "#### **Task 4**"
   ]
  },
  {
   "cell_type": "code",
   "execution_count": 8,
   "id": "eddf7d0c",
   "metadata": {},
   "outputs": [],
   "source": [
    "import glob\n",
    "import os\n",
    "\n",
    "initial_filenames = glob.glob('os-collaboration-exercise-data*/*.txt')\n",
    "month_country_files = []\n",
    "mm_country_files = []\n",
    "conversion = {\n",
    "'jan': '01', 'feb': '02', 'mar': '03',\n",
    "'apr': '04', 'may': '05', 'jun': '06',\n",
    "'jul': '07', 'aug': '08', 'sep': '09',\n",
    "'oct': '10', 'nov': '11', 'dec': '12'\n",
    "}\n",
    "\n",
    "def rename_my_file(old_file_name):\n",
    "    new_file_name = conversion[f'{old_file_name[0:3]}'] + old_file_name[3:]   #Copy pasted from exercise 2\n",
    "    return new_file_name\n",
    "\n",
    "\n",
    "for file in initial_filenames:\n",
    "    split_files = os.path.split(file)\n",
    "    new_path = os.path.join(split_files[0], rename_my_file(split_files[1]))\n",
    "    #print(f'{file} ---> {new_path}')\n",
    "    os.rename(file, new_path)\n",
    "    \n",
    "\n",
    "    \n",
    "\n",
    "\n",
    "    \n",
    "\n",
    "\n",
    "\n",
    "\n",
    "\n"
   ]
  },
  {
   "cell_type": "markdown",
   "id": "bff83c2a",
   "metadata": {},
   "source": [
    "#### **Task 5**"
   ]
  },
  {
   "cell_type": "code",
   "execution_count": 5,
   "id": "80e4c87f",
   "metadata": {},
   "outputs": [
    {
     "name": "stdout",
     "output_type": "stream",
     "text": [
      "cities folder already exists\n",
      "cities\\Cairo already exists\n",
      "cities\\Dhaka already exists\n",
      "cities\\Jakarta already exists\n",
      "cities\\Karachi already exists\n",
      "cities\\Manila already exists\n",
      "cities\\Melbourne already exists\n",
      "cities\\Osaka already exists\n",
      "cities\\Shanghai already exists\n",
      "cities\\Singapore already exists\n",
      "cities\\Tokyo already exists\n"
     ]
    }
   ],
   "source": [
    "cities = ['Cairo', 'Dhaka', 'Jakarta', 'Karachi', 'Manila',\n",
    " 'Melbourne', 'Osaka', 'Shanghai', 'Singapore', 'Tokyo']\n",
    "\n",
    "if os.path.exists('cities'):\n",
    "    print('cities folder already exists')\n",
    "else:\n",
    "    os.mkdir('cities')\n",
    "\n",
    "for city in cities:\n",
    "    path = os.path.join('cities',city)\n",
    "    if os.path.exists(path):\n",
    "        print(f'{path} already exists')\n",
    "    else:\n",
    "        os.mkdir(path)"
   ]
  },
  {
   "cell_type": "markdown",
   "id": "b25b6aeb",
   "metadata": {},
   "source": [
    "#### **Task 6**"
   ]
  },
  {
   "cell_type": "code",
   "execution_count": null,
   "id": "897422be",
   "metadata": {},
   "outputs": [
    {
     "name": "stderr",
     "output_type": "stream",
     "text": [
      "<>:21: SyntaxWarning: invalid escape sequence '\\C'\n",
      "<>:21: SyntaxWarning: invalid escape sequence '\\C'\n",
      "C:\\Users\\mohit\\AppData\\Local\\Temp\\ipykernel_28244\\1944580108.py:21: SyntaxWarning: invalid escape sequence '\\C'\n",
      "  shutil.copy(files, 'cities\\Cairo')\n"
     ]
    }
   ],
   "source": [
    "import os\n",
    "import glob\n",
    "import shutil\n",
    "mm_cairo_files = []\n",
    "def rename_my_file(old_file_name):\n",
    "    new_file_name = conversion[f'{old_file_name[0:3]}'] + old_file_name[3:]   #Copy pasted from exercise 2\n",
    "    return new_file_name\n",
    "conversion = {\n",
    "'jan': '01', 'feb': '02', 'mar': '03',\n",
    "'apr': '04', 'may': '05', 'jun': '06',\n",
    "'jul': '07', 'aug': '08', 'sep': '09',\n",
    "'oct': '10', 'nov': '11', 'dec': '12'\n",
    "}\n",
    "\n",
    "cairo_directories = glob.glob('os-collaboration-exercise-data/*cairo.txt')\n",
    "cairo_files = []\n",
    "for files in cairo_directories:\n",
    "    #cairo_split_files = os.path.split(files)\n",
    "    #cairo_files.append(cairo_split_files[1])\n",
    "    #print(files)\n",
    "    shutil.copy(files, 'cities\\Cairo')\n",
    "\n",
    "\n",
    "\n"
   ]
  },
  {
   "cell_type": "markdown",
   "id": "ea219845",
   "metadata": {},
   "source": [
    "#### **Task 7**"
   ]
  },
  {
   "cell_type": "code",
   "execution_count": 1,
   "id": "a3356822",
   "metadata": {},
   "outputs": [
    {
     "name": "stderr",
     "output_type": "stream",
     "text": [
      "<string>:12: SyntaxWarning: invalid escape sequence '\\{'\n",
      "<>:12: SyntaxWarning: invalid escape sequence '\\{'\n",
      "<string>:12: SyntaxWarning: invalid escape sequence '\\{'\n",
      "<>:12: SyntaxWarning: invalid escape sequence '\\{'\n",
      "C:\\Users\\mohit\\AppData\\Local\\Temp\\ipykernel_31764\\2794030036.py:12: SyntaxWarning: invalid escape sequence '\\{'\n",
      "  shutil.move(files, f'cities\\{country}')\n",
      "C:\\Users\\mohit\\AppData\\Local\\Temp\\ipykernel_31764\\2794030036.py:12: SyntaxWarning: invalid escape sequence '\\{'\n",
      "  shutil.move(files, f'cities\\{country}')\n"
     ]
    },
    {
     "ename": "Error",
     "evalue": "Destination path 'cities\\Cairo\\01-02_cairo.txt' already exists",
     "output_type": "error",
     "traceback": [
      "\u001b[31m---------------------------------------------------------------------------\u001b[39m",
      "\u001b[31mError\u001b[39m                                     Traceback (most recent call last)",
      "\u001b[36mCell\u001b[39m\u001b[36m \u001b[39m\u001b[32mIn[1]\u001b[39m\u001b[32m, line 12\u001b[39m\n\u001b[32m     10\u001b[39m country_directories = glob.glob(\u001b[33mf\u001b[39m\u001b[33m'\u001b[39m\u001b[33mos-collaboration-exercise-data/*\u001b[39m\u001b[38;5;132;01m{\u001b[39;00m\u001b[38;5;28mstr\u001b[39m.lower(country)\u001b[38;5;132;01m}\u001b[39;00m\u001b[33m.txt\u001b[39m\u001b[33m'\u001b[39m)\n\u001b[32m     11\u001b[39m \u001b[38;5;28;01mfor\u001b[39;00m files \u001b[38;5;129;01min\u001b[39;00m country_directories:\n\u001b[32m---> \u001b[39m\u001b[32m12\u001b[39m     \u001b[43mshutil\u001b[49m\u001b[43m.\u001b[49m\u001b[43mmove\u001b[49m\u001b[43m(\u001b[49m\u001b[43mfiles\u001b[49m\u001b[43m,\u001b[49m\u001b[43m \u001b[49m\u001b[33;43mf\u001b[39;49m\u001b[33;43m'\u001b[39;49m\u001b[33;43mcities\u001b[39;49m\u001b[33;43m\\\u001b[39;49m\u001b[38;5;132;43;01m{\u001b[39;49;00m\u001b[43mcountry\u001b[49m\u001b[38;5;132;43;01m}\u001b[39;49;00m\u001b[33;43m'\u001b[39;49m\u001b[43m)\u001b[49m\n",
      "\u001b[36mFile \u001b[39m\u001b[32mc:\\Users\\mohit\\miniconda3\\Lib\\shutil.py:854\u001b[39m, in \u001b[36mmove\u001b[39m\u001b[34m(src, dst, copy_function)\u001b[39m\n\u001b[32m    851\u001b[39m     real_dst = os.path.join(dst, _basename(src))\n\u001b[32m    853\u001b[39m     \u001b[38;5;28;01mif\u001b[39;00m os.path.exists(real_dst):\n\u001b[32m--> \u001b[39m\u001b[32m854\u001b[39m         \u001b[38;5;28;01mraise\u001b[39;00m Error(\u001b[33m\"\u001b[39m\u001b[33mDestination path \u001b[39m\u001b[33m'\u001b[39m\u001b[38;5;132;01m%s\u001b[39;00m\u001b[33m'\u001b[39m\u001b[33m already exists\u001b[39m\u001b[33m\"\u001b[39m % real_dst)\n\u001b[32m    855\u001b[39m \u001b[38;5;28;01mtry\u001b[39;00m:\n\u001b[32m    856\u001b[39m     os.rename(src, real_dst)\n",
      "\u001b[31mError\u001b[39m: Destination path 'cities\\Cairo\\01-02_cairo.txt' already exists"
     ]
    }
   ],
   "source": [
    "import os\n",
    "import glob\n",
    "import shutil\n",
    "\n",
    "\n",
    "countries = ['Cairo', 'Dhaka', 'Jakarta', 'Karachi', 'Manila',\n",
    " 'Melbourne', 'Osaka', 'Shanghai', 'Singapore', 'Tokyo']\n",
    "\n",
    "for country in countries:\n",
    "    country_directories = glob.glob(f'os-collaboration-exercise-data/*{str.lower(country)}.txt')\n",
    "    for files in country_directories:\n",
    "        shutil.move(files, f'cities\\{country}')\n"
   ]
  }
 ],
 "metadata": {
  "kernelspec": {
   "display_name": "base",
   "language": "python",
   "name": "python3"
  },
  "language_info": {
   "codemirror_mode": {
    "name": "ipython",
    "version": 3
   },
   "file_extension": ".py",
   "mimetype": "text/x-python",
   "name": "python",
   "nbconvert_exporter": "python",
   "pygments_lexer": "ipython3",
   "version": "3.13.5"
  },
  "toc": {
   "base_numbering": 1,
   "nav_menu": {},
   "number_sections": true,
   "sideBar": true,
   "skip_h1_title": false,
   "title_cell": "Table of Contents",
   "title_sidebar": "Contents",
   "toc_cell": false,
   "toc_position": {},
   "toc_section_display": true,
   "toc_window_display": false
  }
 },
 "nbformat": 4,
 "nbformat_minor": 5
}
