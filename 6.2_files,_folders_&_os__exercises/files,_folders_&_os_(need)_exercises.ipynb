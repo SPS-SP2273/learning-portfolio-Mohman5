{
 "cells": [
  {
   "attachments": {},
   "cell_type": "markdown",
   "id": "123456",
   "metadata": {},
   "source": [
    "<div style=\"text-align:left;font-size:2em\"><span style=\"font-weight:bolder;font-size:1.25em\">SP2273 | Learning Portfolio</span><br><br><span style=\"font-weight:bold;color:darkred\">Files, Folders & OS (Need) Exercises</span></div>"
   ]
  },
  {
   "cell_type": "markdown",
   "id": "b641b0d1",
   "metadata": {},
   "source": [
    "#### **Exercise 1(Tidying a collaboration)**"
   ]
  },
  {
   "cell_type": "markdown",
   "id": "2db08871",
   "metadata": {},
   "source": [
    "#### **Task 1**"
   ]
  },
  {
   "cell_type": "code",
   "execution_count": null,
   "id": "cd0bd318",
   "metadata": {},
   "outputs": [
    {
     "name": "stdout",
     "output_type": "stream",
     "text": [
      "oct\n",
      "-08_singapore.txt\n",
      "10-08-singapore.txt\n"
     ]
    }
   ],
   "source": [
    "import os\n",
    "import shutil\n",
    "import glob\n",
    "conversion = {\n",
    "'jan': '01', 'feb': '02', 'mar': '03',\n",
    "'apr': '04', 'may': '05', 'jun': '06',\n",
    "'jul': '07', 'aug': '08', 'sep': '09',\n",
    "'oct': '10', 'nov': '11', 'dec': '12'\n",
    "}\n",
    "\n",
    "old_path = 'oct-08_singapore.txt'\n",
    "new_path = conversion[f'{old_path[0:3]}'] + old_path[3:6] + '-' + old_path[7:]\n",
    "print(new_path)\n"
   ]
  },
  {
   "cell_type": "markdown",
   "id": "f8e5e72d",
   "metadata": {},
   "source": [
    "#### **Task 2**"
   ]
  },
  {
   "cell_type": "code",
   "execution_count": 10,
   "id": "f55ff671",
   "metadata": {},
   "outputs": [
    {
     "data": {
      "text/plain": [
       "'04-01-shanghai.txt'"
      ]
     },
     "execution_count": 10,
     "metadata": {},
     "output_type": "execute_result"
    }
   ],
   "source": [
    "def rename_my_file(old_file_name):\n",
    "    conversion = {\n",
    "'jan': '01', 'feb': '02', 'mar': '03',\n",
    "'apr': '04', 'may': '05', 'jun': '06',\n",
    "'jul': '07', 'aug': '08', 'sep': '09',\n",
    "'oct': '10', 'nov': '11', 'dec': '12'\n",
    "}\n",
    "    new_file_name = conversion[old_file_name[0:3]] + old_file_name[3:6] + '-' + old_file_name[7:]\n",
    "    return new_file_name\n",
    "\n",
    "\n",
    "\n",
    "rename_my_file('apr-01_shanghai.txt')\n"
   ]
  },
  {
   "cell_type": "markdown",
   "id": "9e6cfdca",
   "metadata": {},
   "source": [
    "#### **Task 3**"
   ]
  },
  {
   "cell_type": "code",
   "execution_count": 15,
   "id": "2e85b153",
   "metadata": {},
   "outputs": [
    {
     "name": "stdout",
     "output_type": "stream",
     "text": [
      "oct-08_singapore.txt ----> 10-08_singapore.txt\n",
      "jul-10_cairo.txt ----> 07-10_cairo.txt\n",
      "may-15_dhaka.txt ----> 05-15_dhaka.txt\n",
      "may-13_cairo.txt ----> 05-13_cairo.txt\n",
      "oct-21_cairo.txt ----> 10-21_cairo.txt\n",
      "jan-10_singapore.txt ----> 01-10_singapore.txt\n",
      "jun-20_tokyo.txt ----> 06-20_tokyo.txt\n",
      "aug-06_jakarta.txt ----> 08-06_jakarta.txt\n",
      "dec-21_karachi.txt ----> 12-21_karachi.txt\n",
      "jan-01_tokyo.txt ----> 01-01_tokyo.txt\n"
     ]
    }
   ],
   "source": [
    "file_names = ['oct-08_singapore.txt', 'jul-10_cairo.txt', 'may-15_dhaka.txt',\n",
    " 'may-13_cairo.txt', 'oct-21_cairo.txt', 'jan-10_singapore.txt',\n",
    " 'jun-20_tokyo.txt', 'aug-06_jakarta.txt', 'dec-21_karachi.txt',\n",
    " 'jan-01_tokyo.txt']\n",
    "\n",
    "for file in file_names:\n",
    "    print(file, '---->', end = ' ')\n",
    "    print(rename_my_file(file))\n",
    "\n",
    " \n",
    "\n"
   ]
  },
  {
   "cell_type": "markdown",
   "id": "dbe6c33c",
   "metadata": {},
   "source": [
    "#### **Task 4**"
   ]
  },
  {
   "cell_type": "code",
   "execution_count": 25,
   "id": "eddf7d0c",
   "metadata": {},
   "outputs": [],
   "source": [
    "import glob\n",
    "import os\n",
    "\n",
    "initial_filenames = glob.glob('os-collaboration-exercise-data*/*.txt')\n",
    "\n",
    "\n",
    "for file in initial_filenames:\n",
    "    \n",
    "    split_files = os.path.split(file)\n",
    "    try:\n",
    "        int(split_files[1][0:2])\n",
    "        print('already converted')\n",
    "        continue\n",
    "    except ValueError:\n",
    "        pass\n",
    "    new_path = os.path.join(split_files[0], rename_my_file(split_files[1]))\n",
    "    #print(f'{file} ---> {new_path}')\n",
    "    os.rename(file, new_path)\n",
    "    \n",
    "\n",
    "    \n",
    "\n",
    "\n",
    "    \n",
    "\n",
    "\n",
    "\n",
    "\n",
    "\n"
   ]
  },
  {
   "cell_type": "markdown",
   "id": "bff83c2a",
   "metadata": {},
   "source": [
    "#### **Task 5**"
   ]
  },
  {
   "cell_type": "code",
   "execution_count": 26,
   "id": "80e4c87f",
   "metadata": {},
   "outputs": [],
   "source": [
    "cities = ['Cairo', 'Dhaka', 'Jakarta', 'Karachi', 'Manila',\n",
    " 'Melbourne', 'Osaka', 'Shanghai', 'Singapore', 'Tokyo']\n",
    "\n",
    "if os.path.exists('cities'):\n",
    "    print('cities folder already exists')\n",
    "else:\n",
    "    os.mkdir('cities')\n",
    "\n",
    "for city in cities:\n",
    "    path = os.path.join('cities',city)\n",
    "    if os.path.exists(path):\n",
    "        print(f'{path} already exists')\n",
    "    else:\n",
    "        os.mkdir(path)"
   ]
  },
  {
   "cell_type": "markdown",
   "id": "b25b6aeb",
   "metadata": {},
   "source": [
    "#### **Task 6**"
   ]
  },
  {
   "cell_type": "code",
   "execution_count": 28,
   "id": "897422be",
   "metadata": {},
   "outputs": [
    {
     "name": "stderr",
     "output_type": "stream",
     "text": [
      "<>:7: SyntaxWarning: invalid escape sequence '\\C'\n",
      "<>:7: SyntaxWarning: invalid escape sequence '\\C'\n",
      "C:\\Users\\mohit\\AppData\\Local\\Temp\\ipykernel_11832\\783150367.py:7: SyntaxWarning: invalid escape sequence '\\C'\n",
      "  shutil.copy(files, 'cities\\Cairo')\n"
     ]
    }
   ],
   "source": [
    "import os\n",
    "import glob\n",
    "import shutil\n",
    "\n",
    "cairo_directories = glob.glob('os-collaboration-exercise-data/*cairo.txt')\n",
    "for files in cairo_directories:\n",
    "    shutil.copy(files, 'cities\\Cairo') \n",
    "\n",
    "\n",
    "\n"
   ]
  },
  {
   "cell_type": "markdown",
   "id": "ea219845",
   "metadata": {},
   "source": [
    "#### **Task 7**"
   ]
  },
  {
   "cell_type": "code",
   "execution_count": 29,
   "id": "a3356822",
   "metadata": {},
   "outputs": [
    {
     "name": "stderr",
     "output_type": "stream",
     "text": [
      "<string>:13: SyntaxWarning: invalid escape sequence '\\{'\n",
      "<string>:13: SyntaxWarning: invalid escape sequence '\\{'\n",
      "<string>:16: SyntaxWarning: invalid escape sequence '\\{'\n",
      "<>:13: SyntaxWarning: invalid escape sequence '\\{'\n",
      "<>:13: SyntaxWarning: invalid escape sequence '\\{'\n",
      "<>:16: SyntaxWarning: invalid escape sequence '\\{'\n",
      "<string>:13: SyntaxWarning: invalid escape sequence '\\{'\n",
      "<string>:13: SyntaxWarning: invalid escape sequence '\\{'\n",
      "<string>:16: SyntaxWarning: invalid escape sequence '\\{'\n",
      "<>:13: SyntaxWarning: invalid escape sequence '\\{'\n",
      "<>:13: SyntaxWarning: invalid escape sequence '\\{'\n",
      "<>:16: SyntaxWarning: invalid escape sequence '\\{'\n",
      "C:\\Users\\mohit\\AppData\\Local\\Temp\\ipykernel_11832\\2538001704.py:13: SyntaxWarning: invalid escape sequence '\\{'\n",
      "  if os.path.exists(f'cities\\{country}\\{file_name}'):\n",
      "C:\\Users\\mohit\\AppData\\Local\\Temp\\ipykernel_11832\\2538001704.py:13: SyntaxWarning: invalid escape sequence '\\{'\n",
      "  if os.path.exists(f'cities\\{country}\\{file_name}'):\n",
      "C:\\Users\\mohit\\AppData\\Local\\Temp\\ipykernel_11832\\2538001704.py:16: SyntaxWarning: invalid escape sequence '\\{'\n",
      "  shutil.move(files, f'cities\\{country}')\n"
     ]
    },
    {
     "name": "stdout",
     "output_type": "stream",
     "text": [
      "01-02-cairo.txt already moved\n",
      "01-03-cairo.txt already moved\n",
      "01-04-cairo.txt already moved\n",
      "01-05-cairo.txt already moved\n",
      "01-07-cairo.txt already moved\n",
      "01-08-cairo.txt already moved\n",
      "01-09-cairo.txt already moved\n",
      "01-11-cairo.txt already moved\n",
      "01-12-cairo.txt already moved\n",
      "01-13-cairo.txt already moved\n",
      "01-15-cairo.txt already moved\n",
      "01-16-cairo.txt already moved\n",
      "01-19-cairo.txt already moved\n",
      "01-20-cairo.txt already moved\n",
      "01-21-cairo.txt already moved\n",
      "01-23-cairo.txt already moved\n",
      "01-27-cairo.txt already moved\n",
      "01-30-cairo.txt already moved\n",
      "02-10-cairo.txt already moved\n",
      "02-17-cairo.txt already moved\n",
      "02-20-cairo.txt already moved\n",
      "02-22-cairo.txt already moved\n",
      "02-25-cairo.txt already moved\n",
      "02-26-cairo.txt already moved\n",
      "03-05-cairo.txt already moved\n",
      "03-06-cairo.txt already moved\n",
      "03-12-cairo.txt already moved\n",
      "03-14-cairo.txt already moved\n",
      "03-19-cairo.txt already moved\n",
      "03-24-cairo.txt already moved\n",
      "04-02-cairo.txt already moved\n",
      "04-06-cairo.txt already moved\n",
      "04-07-cairo.txt already moved\n",
      "04-10-cairo.txt already moved\n",
      "04-12-cairo.txt already moved\n",
      "04-13-cairo.txt already moved\n",
      "04-14-cairo.txt already moved\n",
      "04-15-cairo.txt already moved\n",
      "04-17-cairo.txt already moved\n",
      "04-20-cairo.txt already moved\n",
      "04-21-cairo.txt already moved\n",
      "04-22-cairo.txt already moved\n",
      "04-23-cairo.txt already moved\n",
      "04-24-cairo.txt already moved\n",
      "05-01-cairo.txt already moved\n",
      "05-02-cairo.txt already moved\n",
      "05-12-cairo.txt already moved\n",
      "05-17-cairo.txt already moved\n",
      "05-25-cairo.txt already moved\n",
      "05-27-cairo.txt already moved\n",
      "05-29-cairo.txt already moved\n",
      "05-30-cairo.txt already moved\n",
      "06-28-cairo.txt already moved\n",
      "07-04-cairo.txt already moved\n",
      "07-08-cairo.txt already moved\n",
      "07-10-cairo.txt already moved\n",
      "07-13-cairo.txt already moved\n",
      "07-14-cairo.txt already moved\n",
      "07-15-cairo.txt already moved\n",
      "07-16-cairo.txt already moved\n",
      "07-17-cairo.txt already moved\n",
      "07-19-cairo.txt already moved\n",
      "07-24-cairo.txt already moved\n",
      "07-26-cairo.txt already moved\n",
      "07-27-cairo.txt already moved\n",
      "07-29-cairo.txt already moved\n",
      "07-30-cairo.txt already moved\n",
      "08-01-cairo.txt already moved\n",
      "08-03-cairo.txt already moved\n",
      "08-04-cairo.txt already moved\n",
      "08-05-cairo.txt already moved\n",
      "08-07-cairo.txt already moved\n",
      "08-08-cairo.txt already moved\n",
      "08-10-cairo.txt already moved\n",
      "08-12-cairo.txt already moved\n",
      "08-14-cairo.txt already moved\n",
      "08-18-cairo.txt already moved\n",
      "08-19-cairo.txt already moved\n",
      "08-20-cairo.txt already moved\n",
      "08-24-cairo.txt already moved\n",
      "08-25-cairo.txt already moved\n",
      "08-26-cairo.txt already moved\n",
      "09-02-cairo.txt already moved\n",
      "09-04-cairo.txt already moved\n",
      "09-05-cairo.txt already moved\n",
      "09-07-cairo.txt already moved\n",
      "09-08-cairo.txt already moved\n",
      "09-11-cairo.txt already moved\n",
      "09-12-cairo.txt already moved\n",
      "09-13-cairo.txt already moved\n",
      "09-16-cairo.txt already moved\n",
      "09-18-cairo.txt already moved\n",
      "09-20-cairo.txt already moved\n",
      "09-22-cairo.txt already moved\n",
      "09-23-cairo.txt already moved\n",
      "09-24-cairo.txt already moved\n",
      "09-25-cairo.txt already moved\n",
      "09-26-cairo.txt already moved\n",
      "09-28-cairo.txt already moved\n",
      "10-23-cairo.txt already moved\n",
      "11-03-cairo.txt already moved\n",
      "11-04-cairo.txt already moved\n",
      "11-05-cairo.txt already moved\n",
      "11-10-cairo.txt already moved\n",
      "11-14-cairo.txt already moved\n",
      "11-17-cairo.txt already moved\n",
      "11-19-cairo.txt already moved\n",
      "11-21-cairo.txt already moved\n",
      "11-29-cairo.txt already moved\n",
      "12-01-cairo.txt already moved\n",
      "12-03-cairo.txt already moved\n",
      "12-04-cairo.txt already moved\n",
      "12-05-cairo.txt already moved\n",
      "12-07-cairo.txt already moved\n",
      "12-09-cairo.txt already moved\n",
      "12-10-cairo.txt already moved\n",
      "12-13-cairo.txt already moved\n",
      "12-17-cairo.txt already moved\n",
      "12-18-cairo.txt already moved\n",
      "12-19-cairo.txt already moved\n",
      "12-21-cairo.txt already moved\n",
      "12-22-cairo.txt already moved\n",
      "12-23-cairo.txt already moved\n",
      "12-26-cairo.txt already moved\n",
      "12-27-cairo.txt already moved\n",
      "12-29-cairo.txt already moved\n"
     ]
    }
   ],
   "source": [
    "import os\n",
    "import glob\n",
    "import shutil\n",
    "\n",
    "\n",
    "countries = ['Cairo', 'Dhaka', 'Jakarta', 'Karachi', 'Manila',\n",
    " 'Melbourne', 'Osaka', 'Shanghai', 'Singapore', 'Tokyo']\n",
    "\n",
    "for country in countries:\n",
    "    country_directories = glob.glob(f'os-collaboration-exercise-data/*{str.lower(country)}.txt')\n",
    "    for files in country_directories:\n",
    "        file_name = os.path.split(files)[1]\n",
    "        if os.path.exists(f'cities\\{country}\\{file_name}'):\n",
    "            print(f'{file_name} already moved')\n",
    "        else:                 \n",
    "            shutil.move(files, f'cities\\{country}')\n",
    "\n"
   ]
  }
 ],
 "metadata": {
  "kernelspec": {
   "display_name": "base",
   "language": "python",
   "name": "python3"
  },
  "language_info": {
   "codemirror_mode": {
    "name": "ipython",
    "version": 3
   },
   "file_extension": ".py",
   "mimetype": "text/x-python",
   "name": "python",
   "nbconvert_exporter": "python",
   "pygments_lexer": "ipython3",
   "version": "3.13.5"
  },
  "toc": {
   "base_numbering": 1,
   "nav_menu": {},
   "number_sections": true,
   "sideBar": true,
   "skip_h1_title": false,
   "title_cell": "Table of Contents",
   "title_sidebar": "Contents",
   "toc_cell": false,
   "toc_position": {},
   "toc_section_display": true,
   "toc_window_display": false
  }
 },
 "nbformat": 4,
 "nbformat_minor": 5
}
